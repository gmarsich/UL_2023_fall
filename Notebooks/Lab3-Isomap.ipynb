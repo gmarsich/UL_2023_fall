{
 "cells": [
  {
   "cell_type": "markdown",
   "metadata": {},
   "source": [
    "## Lab 3: Isomap\n",
    "You can use external libraries for linear algebra operations but you are expected to write your own algorithms."
   ]
  },
  {
   "cell_type": "markdown",
   "metadata": {},
   "source": [
    "### Notes\n",
    "- You can use the ```sklearn.neighbors.NearestNeighbors``` class.\n",
    "- You are expected to write your own implementation of the Floyd-Warshall algorithm, as seen in class.\n",
    "- Test your algorithm with $n=100$ points at first."
   ]
  },
  {
   "cell_type": "code",
   "execution_count": null,
   "metadata": {},
   "outputs": [],
   "source": [
    "import numpy as np\n",
    "import pandas as pd\n",
    "import matplotlib.pyplot as plt\n",
    "from sklearn.model_selection import train_test_split\n",
    "from sklearn.linear_model import LogisticRegression\n",
    "from sklearn.preprocessing import OrdinalEncoder"
   ]
  },
  {
   "cell_type": "markdown",
   "metadata": {},
   "source": [
    "# Exercise 1\n",
    "- Write your own implementation of Isomap. \n",
    "- Apply it to the Swiss Roll dataset ($n=1000$) from Lab 1. "
   ]
  },
  {
   "cell_type": "code",
   "execution_count": null,
   "metadata": {},
   "outputs": [],
   "source": [
    "def swiss_roll(n): #from lab 1\n",
    "    \"\"\"\n",
    "    Parameters:\n",
    "    n: int\n",
    "        Number of points to generate\"\"\"\n",
    "    \n",
    "    data = np.zeros((n,3))\n",
    "    phi = np.random.uniform(low=1.5*np.pi, high=4.5*np.pi, size=n)\n",
    "    psi = np.random.uniform(0,10,n)\n",
    "            \n",
    "    data[:,0]=phi*np.cos(phi) #x coordinte\n",
    "    data[:,1]=phi*np.sin(phi) #y coordinate\n",
    "    data[:,2]=psi #z coordinate\n",
    "    return data"
   ]
  },
  {
   "cell_type": "code",
   "execution_count": null,
   "metadata": {},
   "outputs": [],
   "source": [
    "from sklearn.manifold import Isomap"
   ]
  },
  {
   "cell_type": "code",
   "execution_count": null,
   "metadata": {},
   "outputs": [],
   "source": [
    "embedding = Isomap(n_components=2, path_method='FW') #n_neighbors=5 (default)\n",
    "\n",
    "#how to choose k?\n",
    "#rule of thumb: select it as the smallest k that guarantees a fully-connected graph\n",
    "#if it is set too large, you will have shortcuts"
   ]
  },
  {
   "cell_type": "code",
   "execution_count": null,
   "metadata": {},
   "outputs": [],
   "source": [
    "X = swiss_roll(1000)"
   ]
  },
  {
   "cell_type": "code",
   "execution_count": null,
   "metadata": {},
   "outputs": [],
   "source": [
    "plt.figure(figsize=(12,10))\n",
    "axes = plt.axes(projection='3d')\n",
    "print(type(axes))\n",
    "axes.scatter3D(X[:,0], X[:,1], X[:,2],c=X[:,0])\n",
    "\n",
    "axes.set_xlabel('x')\n",
    "axes.set_ylabel('y')\n",
    "axes.set_zlabel('z')\n",
    "\n",
    "#axes.view_init(45, 45) #(elevation, azimuth angle)\n",
    "\n",
    "plt.show()"
   ]
  },
  {
   "cell_type": "code",
   "execution_count": null,
   "metadata": {},
   "outputs": [],
   "source": [
    "X_new = embedding.fit_transform(X)"
   ]
  },
  {
   "cell_type": "code",
   "execution_count": null,
   "metadata": {},
   "outputs": [],
   "source": [
    "X_new.shape"
   ]
  },
  {
   "cell_type": "code",
   "execution_count": null,
   "metadata": {},
   "outputs": [],
   "source": [
    "plt.plot(X_new[:,0], X_new[:,1], 'o')"
   ]
  },
  {
   "attachments": {},
   "cell_type": "markdown",
   "metadata": {},
   "source": [
    "If we test it with a larger number of datapoints (say $n=5000$) we can see that the algorithm works much better. \n",
    "The Swiss Roll is denser and the Isomap projection is more clearly able to unfold the manifold. With the ```sklearn``` implementation it takes roughly 30 seconds, it may be that your version is slower. "
   ]
  },
  {
   "cell_type": "code",
   "execution_count": null,
   "metadata": {},
   "outputs": [],
   "source": [
    "embedding = Isomap(n_components=2, path_method='FW') #n_neighbors=5 (default)"
   ]
  },
  {
   "cell_type": "code",
   "execution_count": null,
   "metadata": {},
   "outputs": [],
   "source": [
    "X = swiss_roll(5000)"
   ]
  },
  {
   "cell_type": "code",
   "execution_count": null,
   "metadata": {},
   "outputs": [],
   "source": [
    "plt.figure(figsize=(12,10))\n",
    "axes = plt.axes(projection='3d')\n",
    "print(type(axes))\n",
    "axes.scatter3D(X[:,0], X[:,1], X[:,2],c=X[:,0])\n",
    "\n",
    "axes.set_xlabel('x')\n",
    "axes.set_ylabel('y')\n",
    "axes.set_zlabel('z')\n",
    "\n",
    "#axes.view_init(45, 45) #(elevation, azimuth angle)\n",
    "\n",
    "plt.show()"
   ]
  },
  {
   "cell_type": "code",
   "execution_count": null,
   "metadata": {},
   "outputs": [],
   "source": [
    "X_new = embedding.fit_transform(X)"
   ]
  },
  {
   "cell_type": "code",
   "execution_count": null,
   "metadata": {},
   "outputs": [],
   "source": [
    "plt.plot(X_new[:,0], X_new[:,1], 'o')"
   ]
  },
  {
   "cell_type": "markdown",
   "metadata": {},
   "source": [
    "- Use a modified version of the Swiss Roll dataset, in which Gaussian noise from a Normal $N(\\mu=0, \\sigma=0.5)$ is added to the $x$ and $y$ coordinates. Apply Isomap to this dataset and discuss the differences with the previous point."
   ]
  },
  {
   "cell_type": "code",
   "execution_count": null,
   "metadata": {},
   "outputs": [],
   "source": [
    "def swiss_roll_noisy(n):\n",
    "    \"\"\"\n",
    "    Parameters:\n",
    "    n: int\n",
    "        Number of points to generate\"\"\"\n",
    "    \n",
    "    data = np.zeros((n,3))\n",
    "    phi = np.random.uniform(low=1.5*np.pi, high=4.5*np.pi, size=n)\n",
    "    psi = np.random.uniform(0,10,n)\n",
    "            \n",
    "    data[:,0]=phi*np.cos(phi) + np.random.normal(0,0.5,n) #x coordinte\n",
    "    data[:,1]=phi*np.sin(phi) + np.random.normal(0,0.5,n) #y coordinate\n",
    "    data[:,2]=psi #z coordinate\n",
    "    return data"
   ]
  },
  {
   "cell_type": "code",
   "execution_count": null,
   "metadata": {},
   "outputs": [],
   "source": [
    "X = swiss_roll_noisy(1000)"
   ]
  },
  {
   "cell_type": "code",
   "execution_count": null,
   "metadata": {},
   "outputs": [],
   "source": [
    "plt.plot(X[:,0], X[:,1], 'o')\n",
    "plt.show()"
   ]
  },
  {
   "cell_type": "code",
   "execution_count": null,
   "metadata": {},
   "outputs": [],
   "source": [
    "plt.figure(figsize=(12,10))\n",
    "axes = plt.axes(projection='3d')\n",
    "print(type(axes))\n",
    "axes.scatter3D(X[:,0], X[:,1], X[:,2], c=X[:,0])\n",
    "\n",
    "axes.set_xlabel('x')\n",
    "axes.set_ylabel('y')\n",
    "axes.set_zlabel('z')\n",
    "\n",
    "axes.view_init(45, 60) #(elevation, azimuth angle)\n",
    "\n",
    "plt.show()"
   ]
  },
  {
   "cell_type": "code",
   "execution_count": null,
   "metadata": {},
   "outputs": [],
   "source": [
    "embedding = Isomap(n_components=2,path_method='FW')"
   ]
  },
  {
   "cell_type": "code",
   "execution_count": null,
   "metadata": {},
   "outputs": [],
   "source": [
    "X_new = embedding.fit_transform(X)"
   ]
  },
  {
   "cell_type": "code",
   "execution_count": null,
   "metadata": {},
   "outputs": [],
   "source": [
    "plt.plot(X_new[:,0], X_new[:,1], 'o')"
   ]
  },
  {
   "cell_type": "markdown",
   "metadata": {},
   "source": [
    "# Exercise 2\n",
    "Undersample randomly from the  ```Dry_Bean_Dataset.xlsx``` in order to have $n=1000$ datapoints. Follow the same pipeline of Exercise 1 of the previous lab by replacing PCA with Isomap. Discuss the differences with particular focus on the accuracy of the logistic regression."
   ]
  },
  {
   "cell_type": "code",
   "execution_count": null,
   "metadata": {},
   "outputs": [],
   "source": [
    "df = pd.read_excel(\"../Datasets/Dry_Bean_Dataset.xlsx\")"
   ]
  },
  {
   "cell_type": "code",
   "execution_count": null,
   "metadata": {},
   "outputs": [],
   "source": [
    "y = df['Class']\n",
    "X = df.drop('Class', axis=1)"
   ]
  },
  {
   "cell_type": "code",
   "execution_count": null,
   "metadata": {},
   "outputs": [],
   "source": [
    "encoder = OrdinalEncoder()\n",
    "y=np.array(y)\n",
    "encoder.fit(y.reshape(-1,1))\n",
    "y = encoder.transform(y.reshape(-1, 1))\n",
    "print(y)  "
   ]
  },
  {
   "cell_type": "code",
   "execution_count": null,
   "metadata": {},
   "outputs": [],
   "source": [
    "X.shape"
   ]
  },
  {
   "cell_type": "code",
   "execution_count": null,
   "metadata": {},
   "outputs": [],
   "source": [
    "X, _, y , _ = train_test_split(X, y, train_size =1000)"
   ]
  },
  {
   "cell_type": "code",
   "execution_count": null,
   "metadata": {},
   "outputs": [],
   "source": [
    "X.shape"
   ]
  },
  {
   "cell_type": "code",
   "execution_count": null,
   "metadata": {},
   "outputs": [],
   "source": [
    "Xtrain, Xtest, ytrain, ytest = train_test_split(X, y, train_size=0.8)"
   ]
  },
  {
   "cell_type": "code",
   "execution_count": null,
   "metadata": {},
   "outputs": [],
   "source": [
    "X_mean = Xtrain.mean()\n",
    "X_std = Xtrain.std()"
   ]
  },
  {
   "cell_type": "code",
   "execution_count": null,
   "metadata": {},
   "outputs": [],
   "source": [
    "Xtrain = (Xtrain-X_mean )/X_std"
   ]
  },
  {
   "cell_type": "code",
   "execution_count": null,
   "metadata": {},
   "outputs": [],
   "source": [
    "isomap = Isomap(n_components=16, path_method='FW')"
   ]
  },
  {
   "cell_type": "code",
   "execution_count": null,
   "metadata": {},
   "outputs": [],
   "source": [
    "X_new = isomap.fit_transform(Xtrain)"
   ]
  },
  {
   "cell_type": "code",
   "execution_count": null,
   "metadata": {},
   "outputs": [],
   "source": [
    "Xtest = (Xtest- Xtest.mean())/Xtest.std()"
   ]
  },
  {
   "cell_type": "code",
   "execution_count": null,
   "metadata": {},
   "outputs": [],
   "source": [
    "score = []\n",
    "for i in range(X.shape[1]):\n",
    "    lr = LogisticRegression(multi_class='multinomial', max_iter=1000)\n",
    "    lr.fit(X_new[:,:i+1], ytrain.ravel())\n",
    "\n",
    "    x_PC = isomap.transform(Xtest)\n",
    "    x_PC = x_PC[:,:i+1] #keep only\n",
    "    \n",
    "    yhat = lr.predict(x_PC)\n",
    "    print(lr.score(x_PC, ytest.ravel()))\n",
    "    score.append(lr.score(x_PC, ytest.ravel()))"
   ]
  },
  {
   "cell_type": "code",
   "execution_count": null,
   "metadata": {},
   "outputs": [],
   "source": [
    "plt.plot(score)\n",
    "plt.show()"
   ]
  },
  {
   "cell_type": "code",
   "execution_count": null,
   "metadata": {},
   "outputs": [],
   "source": [
    "print(f\"The maximum values of the accuracy score is reached with {np.argmax(score)} PCs and it is equal to {np.max(score)}\")"
   ]
  }
 ],
 "metadata": {
  "kernelspec": {
   "display_name": "base",
   "language": "python",
   "name": "python3"
  },
  "language_info": {
   "codemirror_mode": {
    "name": "ipython",
    "version": 3
   },
   "file_extension": ".py",
   "mimetype": "text/x-python",
   "name": "python",
   "nbconvert_exporter": "python",
   "pygments_lexer": "ipython3",
   "version": "3.9.12"
  },
  "vscode": {
   "interpreter": {
    "hash": "44a886966501868c0cbc0c8bdfb11650a1a570e0fac53b84b354b7450ba02671"
   }
  }
 },
 "nbformat": 4,
 "nbformat_minor": 2
}
